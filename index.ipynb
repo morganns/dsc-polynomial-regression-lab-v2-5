{
 "cells": [
  {
   "cell_type": "markdown",
   "metadata": {},
   "source": [
    "# Polynomial Regression - Lab"
   ]
  },
  {
   "cell_type": "markdown",
   "metadata": {},
   "source": [
    "## Introduction"
   ]
  },
  {
   "cell_type": "markdown",
   "metadata": {},
   "source": [
    "In this lab, you'll practice your knowledge on adding polynomial terms to your regression model! "
   ]
  },
  {
   "cell_type": "markdown",
   "metadata": {},
   "source": [
    "## Objectives"
   ]
  },
  {
   "cell_type": "markdown",
   "metadata": {},
   "source": [
    "You will be able to:\n",
    "\n",
    "* Determine if polynomial regression would be useful for a specific model or set of data\n",
    "* Create polynomial terms out of independent variables in linear regression"
   ]
  },
  {
   "cell_type": "markdown",
   "metadata": {},
   "source": [
    "## Dataset"
   ]
  },
  {
   "cell_type": "markdown",
   "metadata": {},
   "source": [
    "For this lab you'll be using some generated data:"
   ]
  },
  {
   "cell_type": "code",
   "execution_count": 1,
   "metadata": {},
   "outputs": [
    {
     "data": {
      "text/html": [
       "<div>\n",
       "<style scoped>\n",
       "    .dataframe tbody tr th:only-of-type {\n",
       "        vertical-align: middle;\n",
       "    }\n",
       "\n",
       "    .dataframe tbody tr th {\n",
       "        vertical-align: top;\n",
       "    }\n",
       "\n",
       "    .dataframe thead th {\n",
       "        text-align: right;\n",
       "    }\n",
       "</style>\n",
       "<table border=\"1\" class=\"dataframe\">\n",
       "  <thead>\n",
       "    <tr style=\"text-align: right;\">\n",
       "      <th></th>\n",
       "      <th>x</th>\n",
       "      <th>y</th>\n",
       "    </tr>\n",
       "  </thead>\n",
       "  <tbody>\n",
       "    <tr>\n",
       "      <th>0</th>\n",
       "      <td>0.000000</td>\n",
       "      <td>0.942870</td>\n",
       "    </tr>\n",
       "    <tr>\n",
       "      <th>1</th>\n",
       "      <td>0.121212</td>\n",
       "      <td>-2.261629</td>\n",
       "    </tr>\n",
       "    <tr>\n",
       "      <th>2</th>\n",
       "      <td>0.242424</td>\n",
       "      <td>3.100749</td>\n",
       "    </tr>\n",
       "    <tr>\n",
       "      <th>3</th>\n",
       "      <td>0.363636</td>\n",
       "      <td>-0.285446</td>\n",
       "    </tr>\n",
       "    <tr>\n",
       "      <th>4</th>\n",
       "      <td>0.484848</td>\n",
       "      <td>-1.012210</td>\n",
       "    </tr>\n",
       "  </tbody>\n",
       "</table>\n",
       "</div>"
      ],
      "text/plain": [
       "          x         y\n",
       "0  0.000000  0.942870\n",
       "1  0.121212 -2.261629\n",
       "2  0.242424  3.100749\n",
       "3  0.363636 -0.285446\n",
       "4  0.484848 -1.012210"
      ]
     },
     "execution_count": 1,
     "metadata": {},
     "output_type": "execute_result"
    }
   ],
   "source": [
    "# Run this cell without changes\n",
    "import numpy as np\n",
    "import pandas as pd\n",
    "import matplotlib.pyplot as plt\n",
    "%matplotlib inline\n",
    "\n",
    "df = pd.read_csv('sample_data.csv')\n",
    "df.head()"
   ]
  },
  {
   "cell_type": "markdown",
   "metadata": {},
   "source": [
    "Let's check out a scatter plot of `x` vs. `y`: "
   ]
  },
  {
   "cell_type": "code",
   "execution_count": 2,
   "metadata": {},
   "outputs": [
    {
     "data": {
      "image/png": "[encoded data removed]",
      "text/plain": [
       "<Figure size 432x288 with 1 Axes>"
      ]
     },
     "metadata": {
      "needs_background": "light"
     },
     "output_type": "display_data"
    }
   ],
   "source": [
    "# Run this cell without changes\n",
    "df.plot.scatter(x=\"x\", y=\"y\");"
   ]
  },
  {
   "cell_type": "markdown",
   "metadata": {},
   "source": [
    "You will notice that the data is clearly of non-linear shape. Begin to think about what degree polynomial you believe will fit it best.\n",
    "\n",
    "You will fit several different models with different polynomial degrees, then plot them in the same plot at the end."
   ]
  },
  {
   "cell_type": "code",
   "execution_count": 3,
   "metadata": {},
   "outputs": [],
   "source": [
    "# Your code here - import StatsModels and separate the data into X and y\n",
    "import statsmodels.api as sm\n",
    "\n",
    "\n",
    "# Separate the data into independent (X) and dependent (y) variables\n",
    "X = df[['x']]\n",
    "y = df['y']\n"
   ]
  },
  {
   "cell_type": "markdown",
   "metadata": {},
   "source": [
    "## Build and Evaluate a Quadratic Model\n",
    "\n",
    "This model should include a constant, `x`, and `x` squared. You can use `pandas` or `PolynomialFeatures` to create the squared term."
   ]
  },
  {
   "cell_type": "code",
   "execution_count": 4,
   "metadata": {},
   "outputs": [],
   "source": [
    "# Your code here - prepare quadratic data and fit a model\n",
    "import pandas as pd\n",
    "from sklearn.preprocessing import PolynomialFeatures\n",
    "\n",
    "\n",
    "# Separate the data into independent (X) and dependent (y) variables\n",
    "X = df[['x']]\n",
    "y = df['y']\n",
    "\n",
    "\n",
    "# Create quadratic features\n",
    "poly = PolynomialFeatures(degree=2, include_bias=False)\n",
    "X_quad = poly.fit_transform(X)\n",
    "\n",
    "\n",
    "# Add a constant term\n",
    "X_quad = sm.add_constant(X_quad)\n",
    "\n",
    "\n",
    "# Fit the model\n",
    "model = sm.OLS(y, X_quad).fit()\n",
    "\n"
   ]
  },
  {
   "cell_type": "code",
   "execution_count": 5,
   "metadata": {},
   "outputs": [
    {
     "name": "stdout",
     "output_type": "stream",
     "text": [
      "Adjusted R-Squared: -0.015664188856822525\n",
      "Coefficient p-values:\n",
      " const    0.938055\n",
      "x1       0.893974\n",
      "x2       0.967420\n",
      "dtype: float64\n"
     ]
    }
   ],
   "source": [
    "# Your code here - evaluate (adjusted) R-Squared and coefficient p-values\n",
    "from sklearn.preprocessing import PolynomialFeatures\n",
    "\n",
    "\n",
    "# Separate the data into independent (X) and dependent (y) variables\n",
    "X = df[['x']]\n",
    "y = df['y']\n",
    "\n",
    "\n",
    "# Create quadratic features\n",
    "poly = PolynomialFeatures(degree=2, include_bias=False)\n",
    "X_quad = poly.fit_transform(X)\n",
    "\n",
    "\n",
    "# Add a constant term\n",
    "X_quad = sm.add_constant(X_quad)\n",
    "\n",
    "\n",
    "# Fit the model\n",
    "model = sm.OLS(y, X_quad).fit()\n",
    "\n",
    "\n",
    "# Evaluate the model\n",
    "adjusted_r_squared = model.rsquared_adj\n",
    "p_values = model.pvalues\n",
    "\n",
    "\n",
    "print(\"Adjusted R-Squared:\", adjusted_r_squared)\n",
    "print(\"Coefficient p-values:\\n\", p_values)\n"
   ]
  },
  {
   "cell_type": "markdown",
   "metadata": {},
   "source": [
    "# Your written answer here - summarize findings\n",
    "**Model Performance (Adjusted R-Squared):**\n",
    "\n",
    "The adjusted R-squared value is -0.016, which is very low.\n",
    "\n",
    "A negative adjusted R-squared suggests that the quadratic model does not explain the variability in y better than simply using the mean of y.\n",
    "\n",
    "**Significance of Coefficients (P-values):**\n",
    "\n",
    "All coefficients have high p-values (> 0.05):\n",
    "\n",
    "Constant: 0.938\n",
    "x: 0.894\n",
    "x²: 0.967\n",
    "\n",
    "Since none of the coefficients are statistically significant, the quadratic model does not meaningfully improve the prediction.\n",
    "\n",
    "\n",
    "**The quadratic model is NOT a good fit for this dataset.**\n",
    "\n",
    "A higher-degree polynomial (e.g., cubic), a different transformation, or a non-polynomial regression approach might be needed to better capture the data pattern.\n"
   ]
  },
  {
   "cell_type": "markdown",
   "metadata": {},
   "source": [
    "<details>\n",
    "    <summary style=\"cursor: pointer\"><b>Answer (click to reveal)</b></summary>\n",
    "    \n",
    "This is not a good model. Because we have multiple terms and are explaining so little of the variance in `y`, we actually have a negative adjusted R-Squared.\n",
    "\n",
    "None of the coefficients are statistically significant at an alpha of 0.05\n",
    "    \n",
    "</details>"
   ]
  },
  {
   "cell_type": "markdown",
   "metadata": {},
   "source": [
    "## Build and Evaluate a 4th Degree Polynomial Model\n",
    "\n",
    "In other words, the model should include $x^0$ (intercept), $x^1$, $x^2$, $x^3$, and $x^4$ terms.\n",
    "\n",
    "At this point we recommend importing and using `PolynomialFeatures` if you haven't already!"
   ]
  },
  {
   "cell_type": "code",
   "execution_count": 6,
   "metadata": {},
   "outputs": [],
   "source": [
    "# Your code here - prepare 4th degree polynomial data and fit a model\n",
    "import statsmodels.api as sm\n",
    "import pandas as pd\n",
    "from sklearn.preprocessing import PolynomialFeatures\n",
    "\n",
    "\n",
    "# Separate the data into independent (X) and dependent (y) variables\n",
    "X = df[['x']]\n",
    "y = df['y']\n",
    "\n",
    "\n",
    "# Create 4th-degree polynomial features\n",
    "poly = PolynomialFeatures(degree=4, include_bias=False)\n",
    "X_poly = poly.fit_transform(X)\n",
    "\n",
    "\n",
    "# Add a constant term\n",
    "X_poly = sm.add_constant(X_poly)\n",
    "\n",
    "\n",
    "# Fit the 4th-degree polynomial model\n",
    "model_4th_degree = sm.OLS(y, X_poly).fit()\n"
   ]
  },
  {
   "cell_type": "code",
   "execution_count": 7,
   "metadata": {},
   "outputs": [
    {
     "name": "stdout",
     "output_type": "stream",
     "text": [
      "Adjusted R-Squared (4th Degree): 0.566796782011221\n",
      "Coefficient p-values (4th Degree):\n",
      " const    1.995047e-04\n",
      "x1       1.738988e-10\n",
      "x2       3.340296e-14\n",
      "x3       1.715785e-16\n",
      "x4       7.408453e-18\n",
      "dtype: float64\n"
     ]
    }
   ],
   "source": [
    "# Your code here - evaluate (adjusted) R-Squared and coefficient p-values\n",
    "adjusted_r_squared_4th = model_4th_degree.rsquared_adj\n",
    "p_values_4th = model_4th_degree.pvalues\n",
    "\n",
    "\n",
    "print(\"Adjusted R-Squared (4th Degree):\", adjusted_r_squared_4th)\n",
    "print(\"Coefficient p-values (4th Degree):\\n\", p_values_4th)\n"
   ]
  },
  {
   "cell_type": "markdown",
   "metadata": {},
   "source": [
    "# Your written answer here - summarize findings\n",
    "The 4th-degree polynomial model is better than the quadratic model but still NOT a strong fit."
   ]
  },
  {
   "cell_type": "markdown",
   "metadata": {},
   "source": [
    "<details>\n",
    "    <summary style=\"cursor: pointer\"><b>Answer (click to reveal)</b></summary>\n",
    "    \n",
    "This is much better. We are explaining 57-58% of the variance in the target and all of our coefficients are statistically significant at an alpha of 0.05.\n",
    "    \n",
    "</details>"
   ]
  },
  {
   "cell_type": "markdown",
   "metadata": {},
   "source": [
    "## Build and Evaluate an 8th Degree Polynomial Model\n",
    "\n",
    "This model should include $x^0$ through $x^8$."
   ]
  },
  {
   "cell_type": "code",
   "execution_count": 8,
   "metadata": {},
   "outputs": [],
   "source": [
    "# Your code here - prepare 8th degree polynomial data and fit a model\n",
    "import statsmodels.api as sm\n",
    "import pandas as pd\n",
    "from sklearn.preprocessing import PolynomialFeatures\n",
    "\n",
    "\n",
    "# Separate the data into independent (X) and dependent (y) variables\n",
    "X = df[['x']]\n",
    "y = df['y']\n",
    "\n",
    "\n",
    "# Create 8th-degree polynomial features\n",
    "poly = PolynomialFeatures(degree=8, include_bias=False)\n",
    "X_poly_8 = poly.fit_transform(X)\n",
    "\n",
    "\n",
    "# Add a constant term\n",
    "X_poly_8 = sm.add_constant(X_poly_8)\n",
    "\n",
    "\n",
    "# Fit the 8th-degree polynomial model\n",
    "model_8th_degree = sm.OLS(y, X_poly_8).fit()\n",
    "\n"
   ]
  },
  {
   "cell_type": "code",
   "execution_count": 9,
   "metadata": {},
   "outputs": [
    {
     "name": "stdout",
     "output_type": "stream",
     "text": [
      "Adjusted R-Squared (8th Degree): 0.8188676291760089\n",
      "Coefficient p-values (8th Degree):\n",
      " const    0.683776\n",
      "x1       0.618134\n",
      "x2       0.371163\n",
      "x3       0.199162\n",
      "x4       0.144776\n",
      "x5       0.157523\n",
      "x6       0.225536\n",
      "x7       0.357352\n",
      "x8       0.554141\n",
      "dtype: float64\n"
     ]
    }
   ],
   "source": [
    "# Your code here - evaluate (adjusted) R-Squared and coefficient p-values\n",
    "# Evaluate the model\n",
    "adjusted_r_squared_8th = model_8th_degree.rsquared_adj\n",
    "p_values_8th = model_8th_degree.pvalues\n",
    "\n",
    "\n",
    "print(\"Adjusted R-Squared (8th Degree):\", adjusted_r_squared_8th)\n",
    "print(\"Coefficient p-values (8th Degree):\\n\", p_values_8th)\n"
   ]
  },
  {
   "cell_type": "markdown",
   "metadata": {},
   "source": [
    "# Your written answer here - summarize findings\n",
    "**The 8th-Degree Polynomial Model is NOT a Good Fit ❌**\n",
    "\n",
    "Adjusted R-Squared = 0.819: This is a significant improvement compared to the previous models, indicating a better fit.\n",
    "\n",
    "High P-Values: Many coefficients have p-values > 0.05, meaning they are not statistically significant.\n",
    "\n",
    "Overfitting Concern: Despite the high adjusted R-squared, the model may be overfitting the data rather than generalizing well.\n"
   ]
  },
  {
   "cell_type": "markdown",
   "metadata": {},
   "source": [
    "<details>\n",
    "    <summary style=\"cursor: pointer\"><b>Answer (click to reveal)</b></summary>\n",
    "    \n",
    "Our R-Squared is higher, but none of the coefficients are statistically significant at an alpha of 0.05 any more. If what we care about is an inferential understanding of the data, this is too high a degree of the polynomial.\n",
    "    \n",
    "</details>"
   ]
  },
  {
   "cell_type": "markdown",
   "metadata": {},
   "source": [
    "## Plot All Models\n",
    "\n",
    "Build a single plot that shows the raw data as a scatter plot, as well as all of the models you have developed as line graphs. Make sure that everything is labeled so you can tell the different models apart!"
   ]
  },
  {
   "cell_type": "code",
   "execution_count": 12,
   "metadata": {},
   "outputs": [
    {
     "data": {
      "image/png": "[encoded data removed]",
      "text/plain": [
       "<Figure size 432x288 with 1 Axes>"
      ]
     },
     "metadata": {
      "needs_background": "light"
     },
     "output_type": "display_data"
    }
   ],
   "source": [
    "# Your code here\n",
    "import statsmodels.api as sm\n",
    "import pandas as pd\n",
    "import numpy as np\n",
    "import matplotlib.pyplot as plt\n",
    "from sklearn.preprocessing import PolynomialFeatures\n",
    "\n",
    "\n",
    "# Separate the data into independent (X) and dependent (y) variables\n",
    "X = df[['x']]\n",
    "y = df['y']\n",
    "\n",
    "\n",
    "# Function to fit polynomial models\n",
    "def fit_polynomial(degree):\n",
    "    poly = PolynomialFeatures(degree=degree, include_bias=False)\n",
    "    X_poly = poly.fit_transform(X)\n",
    "    X_poly = sm.add_constant(X_poly)\n",
    "    model = sm.OLS(y, X_poly).fit()\n",
    "    return model, poly\n",
    "\n",
    "\n",
    "# Fit models for different degrees\n",
    "model_2nd, poly_2nd = fit_polynomial(2)\n",
    "model_4th, poly_4th = fit_polynomial(4)\n",
    "model_8th, poly_8th = fit_polynomial(8)\n",
    "\n",
    "\n",
    "# Generate x values for plotting\n",
    "x_vals = np.linspace(X.min(), X.max(), 100).reshape(-1, 1)\n",
    "x_vals_df = pd.DataFrame(x_vals, columns=['x'])  # Ensure it has the same feature name\n",
    "\n",
    "\n",
    "# Predict values for each model\n",
    "X_poly_2nd = sm.add_constant(poly_2nd.transform(x_vals_df))\n",
    "y_pred_2nd = model_2nd.predict(X_poly_2nd)\n",
    "\n",
    "\n",
    "X_poly_4th = sm.add_constant(poly_4th.transform(x_vals_df))\n",
    "y_pred_4th = model_4th.predict(X_poly_4th)\n",
    "\n",
    "\n",
    "X_poly_8th = sm.add_constant(poly_8th.transform(x_vals_df))\n",
    "y_pred_8th = model_8th.predict(X_poly_8th)\n",
    "\n",
    "\n",
    "# Plot the raw data\n",
    "plt.scatter(X, y, label='Raw Data', color='black')\n",
    "\n",
    "\n",
    "# Plot model predictions\n",
    "plt.plot(x_vals, y_pred_2nd, label='Quadratic (2nd Degree)', color='blue')\n",
    "plt.plot(x_vals, y_pred_4th, label='4th Degree Polynomial', color='green')\n",
    "plt.plot(x_vals, y_pred_8th, label='8th Degree Polynomial', color='red')\n",
    "\n",
    "\n",
    "# Labels and legend\n",
    "plt.xlabel('x')\n",
    "plt.ylabel('y')\n",
    "plt.title('Polynomial Regression Models')\n",
    "plt.legend()\n",
    "plt.show()\n",
    "\n",
    "\n",
    "\n"
   ]
  },
  {
   "cell_type": "markdown",
   "metadata": {},
   "source": [
    "### Interpret Findings\n",
    "\n",
    "Based on the metrics as well as the graphs, which model do you think is the best? Why?"
   ]
  },
  {
   "cell_type": "markdown",
   "metadata": {},
   "source": [
    "# Your written answer here\n",
    "After evaluating the different polynomial regression models using adjusted R-squared values, p-values, and visual inspection of the graphs, the 4th-degree polynomial model emerges as the best choice. The quadratic model (2nd-degree) performed poorly, with an adjusted R² of -0.016, indicating that it does not explain the variability in y well. Additionally, its high p-values suggest that its coefficients are not statistically significant. The 4th-degree polynomial model, on the other hand, showed a significant improvement with an adjusted R² of 0.567, meaning it captures more variance in the data. Moreover, all its coefficients were statistically significant, reinforcing its validity as a good fit.\n",
    "\n",
    "The 8th-degree polynomial model achieved the highest adjusted R² of 0.819, meaning it explained the most variance. However, many of its coefficients had high p-values, indicating they were not statistically significant. Additionally, the visual representation of this model showed excessive fluctuations, suggesting overfitting—where the model fits the training data well but may not generalize effectively to new data.\n",
    "\n",
    "Considering both the statistical metrics and graphical trends, the 4th-degree polynomial model is the optimal choice. It provides a good balance between capturing the non-linear relationship in the data and avoiding overfitting, making it more generalizable to unseen data. If further improvements are needed, exploring alternative regression approaches such as spline regression or regularization techniques may be beneficial.\n",
    "\n",
    "\n"
   ]
  },
  {
   "cell_type": "markdown",
   "metadata": {},
   "source": [
    "<details>\n",
    "    <summary style=\"cursor: pointer\"><b>Answer (click to reveal)</b></summary>\n",
    "    \n",
    "The quadratic model (polynomial degree 2) is definitely not the best based on all of the evidence we have. It has the worst R-Squared, the coefficient p-values are not significant, and you can see from the graph that there is a lot of variance in the data that it is not picking up on.\n",
    "\n",
    "Our visual inspection aligns with the worse R-Squared for the 4th degree polynomial compared to the 8th degree polynomial. The 4th degree polynomial is flatter and doesn't seem to capture the extremes of the data as well.\n",
    "    \n",
    "However if we wanted to interpret the coefficients, then only the 4th degree polynomial has statistically significant results. The interpretation would be challenging because of the number of terms, but we could apply some calculus techniques to describe inflection points.\n",
    "\n",
    "Overall it appears that this dataset is not particularly well suited to an inferential linear regression approach, even with polynomial transformations. So the \"best\" model could be either the 4th or 8th degree polynomial depending on which aspect of the model is more important to you, but either way it will be challenging to translate it into insights for stakeholders.\n",
    "    \n",
    "</details>"
   ]
  },
  {
   "cell_type": "markdown",
   "metadata": {},
   "source": [
    "## Summary"
   ]
  },
  {
   "cell_type": "markdown",
   "metadata": {},
   "source": [
    "Great job! You now know how to include polynomials in your linear models as well as the limitations of applying polynomial regression. "
   ]
  }
 ],
 "metadata": {
  "kernelspec": {
   "display_name": "Python (learn-env)",
   "language": "python",
   "name": "learn-env"
  },
  "language_info": {
   "codemirror_mode": {
    "name": "ipython",
    "version": 3
   },
   "file_extension": ".py",
   "mimetype": "text/x-python",
   "name": "python",
   "nbconvert_exporter": "python",
   "pygments_lexer": "ipython3",
   "version": "3.8.5"
  }
 },
 "nbformat": 4,
 "nbformat_minor": 2
}
